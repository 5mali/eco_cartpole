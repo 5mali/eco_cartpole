{
 "cells": [
  {
   "cell_type": "code",
   "execution_count": 1,
   "metadata": {},
   "outputs": [],
   "source": [
    "%matplotlib inline\n",
    "import torch\n",
    "import torch.nn as nn\n",
    "import torch.nn.functional as F\n",
    "import numpy as np\n",
    "import gym\n",
    "import matplotlib.pyplot as plt"
   ]
  },
  {
   "cell_type": "code",
   "execution_count": 2,
   "metadata": {},
   "outputs": [],
   "source": [
    "seed = 161\n",
    "# random.seed(seed)\n",
    "torch.manual_seed(seed)\n",
    "np.random.seed(seed)\n",
    "# os.environ['PYTHONHASHSEED'] = str(seed)"
   ]
  },
  {
   "cell_type": "code",
   "execution_count": 3,
   "metadata": {},
   "outputs": [],
   "source": [
    "# Hyper Parameters\n",
    "BATCH_SIZE          = 32\n",
    "LR                  = 1e-3  # learning rate\n",
    "EPSILON             = 0.9   # greedy policy\n",
    "GAMMA               = 0.9   # reward discount\n",
    "TARGET_REPLACE_ITER = 100   # target update frequency\n",
    "MEMORY_CAPACITY     = 2000\n",
    "SEGREGATION_BIAS    = 6     # no. of non-terminal memories in batch"
   ]
  },
  {
   "cell_type": "code",
   "execution_count": 4,
   "metadata": {},
   "outputs": [],
   "source": [
    "env = gym.make('CartPole-v0')\n",
    "env = env.unwrapped\n",
    "env.seed(seed);"
   ]
  },
  {
   "cell_type": "code",
   "execution_count": 5,
   "metadata": {},
   "outputs": [],
   "source": [
    "N_ACTIONS   = env.action_space.n\n",
    "N_STATES    = env.observation_space.shape[0]\n",
    "ENV_A_SHAPE = 0 if isinstance(env.action_space.sample(), int) else env.action_space.sample().shape     # to confirm the shape"
   ]
  },
  {
   "cell_type": "code",
   "execution_count": 6,
   "metadata": {},
   "outputs": [],
   "source": [
    "class Net(nn.Module):\n",
    "    def __init__(self, ):\n",
    "        super(Net, self).__init__()\n",
    "        self.fc1 = nn.Linear(N_STATES, 50)\n",
    "        nn.init.kaiming_uniform_(self.fc1.weight)   # initialization\n",
    "        self.out = nn.Linear(50, N_ACTIONS)\n",
    "        nn.init.xavier_uniform_(self.out.weight)   # initialization\n",
    "\n",
    "    def forward(self, x):\n",
    "        x = self.fc1(x)\n",
    "        x = F.relu(x)\n",
    "        actions_value = self.out(x)\n",
    "        return actions_value"
   ]
  },
  {
   "cell_type": "code",
   "execution_count": 7,
   "metadata": {},
   "outputs": [],
   "source": [
    "class DQN(object):\n",
    "    def __init__(self):\n",
    "        self.eval_net, self.target_net = Net(), Net()\n",
    "#         print(\"Neural net\")\n",
    "#         print(self.eval_net)\n",
    "\n",
    "        self.learn_step_counter  = 0 # for target updating\n",
    "        \n",
    "        self.good_memory_counter = 0 # for storing non-terminal memories\n",
    "        self.good_memory         = np.zeros((int(MEMORY_CAPACITY/2), N_STATES * 2 + 2)) # initialize memory\n",
    "        \n",
    "        self.bad_memory_counter  = 0 # for storing terminal memories\n",
    "        self.bad_memory          = np.zeros((int(MEMORY_CAPACITY/2), N_STATES * 2 + 2)) # initialize memory\n",
    "        \n",
    "        self.optimizer           = torch.optim.Adam(self.eval_net.parameters(), lr=LR)\n",
    "        self.loss_func           = nn.MSELoss()\n",
    "\n",
    "    def choose_action(self, x):\n",
    "        x = torch.unsqueeze(torch.FloatTensor(x), 0)\n",
    "        # input only one sample\n",
    "        if np.random.uniform() < EPSILON:   # greedy\n",
    "            actions_value = self.eval_net.forward(x)\n",
    "            action = torch.max(actions_value, 1)[1].data.numpy()\n",
    "            action = action[0] if ENV_A_SHAPE == 0 else action.reshape(ENV_A_SHAPE)  # return the argmax index\n",
    "        else:   # random\n",
    "            action = np.random.randint(0, N_ACTIONS)\n",
    "            action = action if ENV_A_SHAPE == 0 else action.reshape(ENV_A_SHAPE)\n",
    "        return action\n",
    "    \n",
    "    def choose_greedy_action(self, x):\n",
    "        x = torch.unsqueeze(torch.FloatTensor(x), 0)\n",
    "        # input only one sample\n",
    "        actions_value = self.eval_net.forward(x)\n",
    "        action = torch.max(actions_value, 1)[1].data.numpy()\n",
    "        action = action[0] if ENV_A_SHAPE == 0 else action.reshape(ENV_A_SHAPE)  # return the argmax index\n",
    "        return action\n",
    "\n",
    "    def store_transition(self, s, a, r, s_):\n",
    "        transition = np.hstack((s, [a, r], s_))\n",
    "        if r > 0: #non-terminal rewards\n",
    "            # replace the old memory with new memory\n",
    "            index = self.good_memory_counter % int(MEMORY_CAPACITY/2)\n",
    "            self.good_memory[index, :] = transition\n",
    "            self.good_memory_counter += 1\n",
    "        \n",
    "        else: #terminal rewards\n",
    "            # replace the old memory with new memory\n",
    "            index = self.bad_memory_counter % int(MEMORY_CAPACITY/2)\n",
    "            self.bad_memory[index, :] = transition\n",
    "            self.bad_memory_counter += 1\n",
    "\n",
    "    def learn(self):\n",
    "        # target parameter update\n",
    "        if self.learn_step_counter % TARGET_REPLACE_ITER == 0:\n",
    "            self.target_net.load_state_dict(self.eval_net.state_dict())\n",
    "        self.learn_step_counter += 1\n",
    "\n",
    "        # sample batch transitions\n",
    "        good_sample_index = np.random.choice(int(MEMORY_CAPACITY/2), int(SEGREGATION_BIAS))\n",
    "        bad_sample_index  = np.random.choice(int(MEMORY_CAPACITY/2), int(BATCH_SIZE-SEGREGATION_BIAS))\n",
    "\n",
    "        b_good_memory = self.good_memory[good_sample_index, :]\n",
    "        b_bad_memory  = self.bad_memory[bad_sample_index, :]\n",
    "        b_memory      = np.vstack((b_good_memory,b_bad_memory))\n",
    "        \n",
    "        b_s  = torch.FloatTensor(b_memory[:, :N_STATES])\n",
    "        b_a  = torch.LongTensor( b_memory[:, N_STATES:N_STATES+1].astype(int))\n",
    "        b_r  = torch.FloatTensor(b_memory[:, N_STATES+1:N_STATES+2])\n",
    "        b_s_ = torch.FloatTensor(b_memory[:, -N_STATES:])\n",
    "\n",
    "        # q_eval w.r.t the action in experience\n",
    "        q_eval   = self.eval_net(b_s).gather(1, b_a)  # shape (batch, 1)\n",
    "        q_next   = self.target_net(b_s_).detach()     # detach from graph, don't backpropagate\n",
    "        q_target = b_r + GAMMA * q_next.max(1)[0].view(BATCH_SIZE, 1)   # shape (batch, 1)\n",
    "        loss     = self.loss_func(q_eval, q_target)\n",
    "\n",
    "        self.optimizer.zero_grad()\n",
    "        loss.backward()\n",
    "        self.optimizer.step()"
   ]
  },
  {
   "cell_type": "code",
   "execution_count": 8,
   "metadata": {},
   "outputs": [],
   "source": [
    "dqn = DQN()\n",
    "NO_OF_EPISODES = int(MEMORY_CAPACITY/2) + 1000"
   ]
  },
  {
   "cell_type": "code",
   "execution_count": 9,
   "metadata": {},
   "outputs": [
    {
     "name": "stdout",
     "output_type": "stream",
     "text": [
      "\n",
      "Collecting experience...\n",
      "Learning starts from EPISODE:  1000\n",
      "Upgrading @ EPISODE:  1189\n",
      "EPISODE: 1466  |  TIME_STEPS:  1001  |  EPSILON: 0.92 | TOTAL TIME_STEPS:     111337 \n",
      "Upgrading @ EPISODE:  1466\n",
      "EPISODE: 1468  |  TIME_STEPS:   944  |  EPSILON: 0.94 | TOTAL TIME_STEPS:     112603 \n",
      "EPISODE: 1469  |  TIME_STEPS:  1001  |  EPSILON: 0.94 | TOTAL TIME_STEPS:     113604 \n",
      "EPISODE: 1472  |  TIME_STEPS:  1001  |  EPSILON: 0.94 | TOTAL TIME_STEPS:     115437 \n",
      "EPISODE: 1476  |  TIME_STEPS:  1001  |  EPSILON: 0.94 | TOTAL TIME_STEPS:     118592 \n",
      "EPISODE: 1492  |  TIME_STEPS:  1001  |  EPSILON: 0.94 | TOTAL TIME_STEPS:     125200 \n",
      "EPISODE: 1493  |  TIME_STEPS:  1001  |  EPSILON: 0.94 | TOTAL TIME_STEPS:     126201 \n",
      "EPISODE: 1495  |  TIME_STEPS:  1001  |  EPSILON: 0.94 | TOTAL TIME_STEPS:     127650 \n",
      "EPISODE: 1498  |  TIME_STEPS:  1001  |  EPSILON: 0.94 | TOTAL TIME_STEPS:     129415 \n",
      "EPISODE: 1500  |  TIME_STEPS:  1001  |  EPSILON: 0.94 | TOTAL TIME_STEPS:     131067 \n",
      "EPISODE: 1502  |  TIME_STEPS:  1001  |  EPSILON: 0.94 | TOTAL TIME_STEPS:     132428 \n",
      "EPISODE: 1786  |  TIME_STEPS:   995  |  EPSILON: 0.94 | TOTAL TIME_STEPS:     211582 \n",
      "EPISODE: 1813  |  TIME_STEPS:  1001  |  EPSILON: 0.94 | TOTAL TIME_STEPS:     221226 \n",
      "EPISODE: 1814  |  TIME_STEPS:  1001  |  EPSILON: 0.94 | TOTAL TIME_STEPS:     222227 \n",
      "EPISODE: 1815  |  TIME_STEPS:  1001  |  EPSILON: 0.94 | TOTAL TIME_STEPS:     223228 \n",
      "EPISODE: 1816  |  TIME_STEPS:  1001  |  EPSILON: 0.94 | TOTAL TIME_STEPS:     224229 \n",
      "EPISODE: 1817  |  TIME_STEPS:  1001  |  EPSILON: 0.94 | TOTAL TIME_STEPS:     225230 \n",
      "EPISODE: 1818  |  TIME_STEPS:  1001  |  EPSILON: 0.94 | TOTAL TIME_STEPS:     226231 \n",
      "EPISODE: 1819  |  TIME_STEPS:  1001  |  EPSILON: 0.94 | TOTAL TIME_STEPS:     227232 \n",
      "EPISODE: 1822  |  TIME_STEPS:  1001  |  EPSILON: 0.94 | TOTAL TIME_STEPS:     228986 \n",
      "EPISODE: 1823  |  TIME_STEPS:  1001  |  EPSILON: 0.94 | TOTAL TIME_STEPS:     229987 \n",
      "EPISODE: 1824  |  TIME_STEPS:  1001  |  EPSILON: 0.94 | TOTAL TIME_STEPS:     230988 \n",
      "EPISODE: 1827  |  TIME_STEPS:  1001  |  EPSILON: 0.94 | TOTAL TIME_STEPS:     233089 \n",
      "EPISODE: 1828  |  TIME_STEPS:  1001  |  EPSILON: 0.94 | TOTAL TIME_STEPS:     234090 \n",
      "EPISODE: 1829  |  TIME_STEPS:  1001  |  EPSILON: 0.94 | TOTAL TIME_STEPS:     235091 \n",
      "EPISODE: 1840  |  TIME_STEPS:   915  |  EPSILON: 0.94 | TOTAL TIME_STEPS:     240144 \n",
      "EPISODE: 1885  |  TIME_STEPS:  1001  |  EPSILON: 0.94 | TOTAL TIME_STEPS:     260240 \n",
      "EPISODE: 1891  |  TIME_STEPS:  1001  |  EPSILON: 0.94 | TOTAL TIME_STEPS:     264005 \n",
      "EPISODE: 1894  |  TIME_STEPS:  1001  |  EPSILON: 0.94 | TOTAL TIME_STEPS:     266243 \n",
      "EPISODE: 1896  |  TIME_STEPS:  1001  |  EPSILON: 0.94 | TOTAL TIME_STEPS:     267962 \n",
      "EPISODE: 1951  |  TIME_STEPS:  1001  |  EPSILON: 0.94 | TOTAL TIME_STEPS:     291000 \n",
      "EPISODE: 1953  |  TIME_STEPS:  1001  |  EPSILON: 0.94 | TOTAL TIME_STEPS:     292343 \n",
      "EPISODE: 1957  |  TIME_STEPS:  1001  |  EPSILON: 0.94 | TOTAL TIME_STEPS:     295049 \n",
      "EPISODE: 1958  |  TIME_STEPS:  1001  |  EPSILON: 0.94 | TOTAL TIME_STEPS:     296050 \n",
      "EPISODE: 1959  |  TIME_STEPS:  1001  |  EPSILON: 0.94 | TOTAL TIME_STEPS:     297051 \n",
      "EPISODE: 1960  |  TIME_STEPS:  1001  |  EPSILON: 0.94 | TOTAL TIME_STEPS:     298052 \n",
      "EPISODE: 1961  |  TIME_STEPS:  1001  |  EPSILON: 0.94 | TOTAL TIME_STEPS:     299053 \n",
      "EPISODE: 1962  |  TIME_STEPS:  1001  |  EPSILON: 0.94 | TOTAL TIME_STEPS:     300054 \n",
      "EPISODE: 1963  |  TIME_STEPS:  1001  |  EPSILON: 0.94 | TOTAL TIME_STEPS:     301055 \n",
      "EPISODE: 1968  |  TIME_STEPS:  1001  |  EPSILON: 0.94 | TOTAL TIME_STEPS:     304260 \n"
     ]
    }
   ],
   "source": [
    "print('\\nCollecting experience...')\n",
    "REMEMBER_LIMIT = 4000\n",
    "TIMESTEP_LIMIT = 1000\n",
    "total_time_steps = 0\n",
    "ep_r_rec = []\n",
    "time_rec = []\n",
    "flag = True\n",
    "learn_start = 0\n",
    "upgrade_metric = 200\n",
    "upgrade_flag = False\n",
    "upgrade_counter = 0\n",
    "for i_episode in range(NO_OF_EPISODES):\n",
    "       \n",
    "    s = env.reset()\n",
    "    ep_r = 0\n",
    "    time_steps = 0\n",
    "    stop_remember = False\n",
    "    while True:\n",
    "#         env.render()\n",
    "        time_steps += 1\n",
    "        total_time_steps += 1\n",
    "        a = dqn.choose_action(s)\n",
    "\n",
    "        # take action\n",
    "        s_, r, done, info = env.step(a)\n",
    "        \n",
    "        if time_steps > REMEMBER_LIMIT:\n",
    "            stop_remember = True\n",
    "        \n",
    "        if (stop_remember == False):\n",
    "            dqn.store_transition(s, a, r, s_)\n",
    "        \n",
    "        if time_steps > TIMESTEP_LIMIT:\n",
    "            done = True\n",
    "        \n",
    "        if done:\n",
    "            r = -1\n",
    "            if time_steps >= TIMESTEP_LIMIT:\n",
    "                r = 1\n",
    "            dqn.store_transition(s, a, r, s_)\n",
    "        \n",
    "        ep_r += r\n",
    "        if dqn.good_memory_counter > MEMORY_CAPACITY/2 and dqn.bad_memory_counter > MEMORY_CAPACITY/2:\n",
    "            dqn.learn()\n",
    "            if flag:\n",
    "                print(\"Learning starts from EPISODE: \",i_episode)\n",
    "                learn_start = i_episode\n",
    "                flag = False\n",
    "        \n",
    "        if done:\n",
    "            ep_r_rec = np.append(ep_r_rec, ep_r)\n",
    "            time_rec = np.append(time_rec, time_steps)\n",
    "            if time_steps > 900:\n",
    "                print('EPISODE: {:4d}  |  TIME_STEPS: {:5d}  |  EPSILON: {:3.2f} | TOTAL TIME_STEPS: {:10d} '.format(i_episode, time_steps, EPSILON, total_time_steps))\n",
    "            \n",
    "            break\n",
    "        s = s_\n",
    "    \n",
    "    #if mean of episode lenght of last 10 episodes is greater than upgrade_metric\n",
    "    if np.mean(time_rec[-10:]) > upgrade_metric:\n",
    "        upgrade_counter += 1\n",
    "    else:\n",
    "        upgrade_counter = 0\n",
    "        \n",
    "    if upgrade_counter > 10:\n",
    "        upgrade_counter = 0\n",
    "        print(\"Upgrading @ EPISODE: \", i_episode)\n",
    "        upgrade_metric *= 2\n",
    "        EPSILON += 0.02\n",
    "        "
   ]
  },
  {
   "cell_type": "code",
   "execution_count": 10,
   "metadata": {},
   "outputs": [
    {
     "data": {
      "image/png": "[encoded data removed]",
      "text/plain": [
       "<Figure size 1080x432 with 1 Axes>"
      ]
     },
     "metadata": {},
     "output_type": "display_data"
    }
   ],
   "source": [
    "fig = plt.figure(figsize = (15,6))\n",
    "\n",
    "ax2 = fig.add_subplot(2, 1, 1)\n",
    "data = time_rec[learn_start:]\n",
    "ax2.plot(data, color = 'g')\n",
    "ax2.plot(np.ones_like(data)*1500, 'g--')\n",
    "ax2.plot(np.ones_like(data)*200, 'r--')\n",
    "\n",
    "ax2.set_title('Time Steps',color = 'g')\n",
    "for xpt in [250,500]:\n",
    "    ax2.axvline(x=xpt,color='k',linewidth='0.8')\n",
    "ax2.set_yscale('log')\n",
    "ax2.set_ylim([1,1e6])\n",
    "fig.tight_layout()\n",
    "ax2.grid()\n",
    "plt.show()"
   ]
  },
  {
   "cell_type": "code",
   "execution_count": 11,
   "metadata": {},
   "outputs": [],
   "source": [
    "torch.save(dqn.eval_net.state_dict(), 'cartpole_limit_1k.pt')"
   ]
  },
  {
   "cell_type": "code",
   "execution_count": 12,
   "metadata": {},
   "outputs": [],
   "source": [
    "env.close()"
   ]
  },
  {
   "cell_type": "code",
   "execution_count": 13,
   "metadata": {},
   "outputs": [],
   "source": [
    "# s = env.reset()\n",
    "# while True:\n",
    "#     env.render()\n",
    "#     a = dqn.choose_greedy_action(s)\n",
    "#     s_, r, done, info = env.step(a)\n",
    "#     if done:\n",
    "#         break\n",
    "#     s = s_"
   ]
  },
  {
   "cell_type": "code",
   "execution_count": 14,
   "metadata": {},
   "outputs": [],
   "source": [
    "# env.close()"
   ]
  },
  {
   "cell_type": "code",
   "execution_count": 15,
   "metadata": {},
   "outputs": [
    {
     "name": "stdout",
     "output_type": "stream",
     "text": [
      "TOTAL TIMESTEPS:  315714\n"
     ]
    }
   ],
   "source": [
    "print(\"TOTAL TIMESTEPS: \", total_time_steps)"
   ]
  },
  {
   "cell_type": "code",
   "execution_count": null,
   "metadata": {},
   "outputs": [],
   "source": []
  }
 ],
 "metadata": {
  "kernelspec": {
   "display_name": "Python 3",
   "language": "python",
   "name": "python3"
  },
  "language_info": {
   "codemirror_mode": {
    "name": "ipython",
    "version": 3
   },
   "file_extension": ".py",
   "mimetype": "text/x-python",
   "name": "python",
   "nbconvert_exporter": "python",
   "pygments_lexer": "ipython3",
   "version": "3.6.3"
  }
 },
 "nbformat": 4,
 "nbformat_minor": 2
}
