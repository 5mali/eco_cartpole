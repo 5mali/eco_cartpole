{
 "cells": [
  {
   "cell_type": "code",
   "execution_count": 36,
   "metadata": {},
   "outputs": [],
   "source": [
    "NO_OF_NODES = 20\n",
    "LENGTH = 0.5"
   ]
  },
  {
   "cell_type": "code",
   "execution_count": 39,
   "metadata": {},
   "outputs": [
    {
     "name": "stdout",
     "output_type": "stream",
     "text": [
      "0.275\n",
      "0.3\n",
      "0.325\n",
      "0.35\n",
      "0.375\n",
      "0.4\n",
      "0.425\n",
      "0.45\n",
      "0.475\n",
      "0.5\n",
      "0.525\n",
      "0.55\n",
      "0.575\n",
      "0.6\n",
      "0.625\n",
      "0.65\n",
      "0.675\n",
      "0.7\n",
      "0.725\n",
      "0.75\n"
     ]
    }
   ],
   "source": [
    "for node_id in range(NO_OF_NODES):\n",
    "    print(((1.5 - 0.5) * (node_id + 1)/(NO_OF_NODES) + 0.5)  *LENGTH)"
   ]
  },
  {
   "cell_type": "code",
   "execution_count": 4,
   "metadata": {},
   "outputs": [
    {
     "data": {
      "text/plain": [
       "0.2094393333333333"
      ]
     },
     "execution_count": 4,
     "metadata": {},
     "output_type": "execute_result"
    }
   ],
   "source": [
    "12 * 2 * 3.14159/ 360"
   ]
  },
  {
   "cell_type": "code",
   "execution_count": 10,
   "metadata": {},
   "outputs": [],
   "source": [
    "import numpy as np\n",
    "a = [3,6,8,2]\n",
    "b = [1,8,3,0]\n",
    "\n",
    "c = np.maximum(a,b)"
   ]
  },
  {
   "cell_type": "code",
   "execution_count": 34,
   "metadata": {},
   "outputs": [
    {
     "data": {
      "text/plain": [
       "0.4930252389152422"
      ]
     },
     "execution_count": 34,
     "metadata": {},
     "output_type": "execute_result"
    }
   ],
   "source": [
    "np.random.uniform(-0.5,0.5)"
   ]
  },
  {
   "cell_type": "code",
   "execution_count": 3,
   "metadata": {},
   "outputs": [],
   "source": [
    "NO_OF_NODES = 5"
   ]
  },
  {
   "cell_type": "code",
   "execution_count": 4,
   "metadata": {},
   "outputs": [],
   "source": [
    "node_boundary = [C_POS_ABS_MAX, C_VEL_ABS_MAX, P_ANG_ABS_MAX, P_VEL_ABS_MAX, M_CART_ABS_MAX, M_POLE_ABS_MAX, LENGTH_ABS_MAX,\n",
    "                 C_POS_ABS_MIN, C_VEL_ABS_MIN, P_ANG_ABS_MIN, P_VEL_ABS_MIN, M_CART_ABS_MIN, M_POLE_ABS_MIN, LENGTH_ABS_MIN]"
   ]
  },
  {
   "cell_type": "code",
   "execution_count": 12,
   "metadata": {},
   "outputs": [],
   "source": [
    "node_boundary = [4,7,2,7]"
   ]
  },
  {
   "cell_type": "code",
   "execution_count": 13,
   "metadata": {},
   "outputs": [],
   "source": [
    "node_boundaries = [node_boundary for i in range(NO_OF_NODES)]\n",
    "args = [i for i in zip (range(NO_OF_NODES),node_boundaries)]\n"
   ]
  },
  {
   "cell_type": "code",
   "execution_count": 14,
   "metadata": {},
   "outputs": [
    {
     "data": {
      "text/plain": [
       "[(0, [4, 7, 2, 7]),\n",
       " (1, [4, 7, 2, 7]),\n",
       " (2, [4, 7, 2, 7]),\n",
       " (3, [4, 7, 2, 7]),\n",
       " (4, [4, 7, 2, 7])]"
      ]
     },
     "execution_count": 14,
     "metadata": {},
     "output_type": "execute_result"
    }
   ],
   "source": [
    "args"
   ]
  },
  {
   "cell_type": "code",
   "execution_count": 19,
   "metadata": {},
   "outputs": [],
   "source": [
    "import numpy as np\n",
    "b = np.array([3,5,7,2,7,2])"
   ]
  },
  {
   "cell_type": "code",
   "execution_count": 20,
   "metadata": {},
   "outputs": [
    {
     "data": {
      "text/plain": [
       "2"
      ]
     },
     "execution_count": 20,
     "metadata": {},
     "output_type": "execute_result"
    }
   ],
   "source": [
    "b.argmax()"
   ]
  },
  {
   "cell_type": "code",
   "execution_count": null,
   "metadata": {},
   "outputs": [],
   "source": []
  },
  {
   "cell_type": "code",
   "execution_count": null,
   "metadata": {},
   "outputs": [],
   "source": []
  },
  {
   "cell_type": "code",
   "execution_count": null,
   "metadata": {},
   "outputs": [],
   "source": []
  },
  {
   "cell_type": "code",
   "execution_count": 26,
   "metadata": {},
   "outputs": [],
   "source": [
    "# SET GRANULARITY\n",
    "LO_GRAIN = 5\n",
    "HI_GRAIN = 15"
   ]
  },
  {
   "cell_type": "code",
   "execution_count": 27,
   "metadata": {},
   "outputs": [],
   "source": [
    "# ABSOLUTE LIMITS ON STATE VALUES\n",
    "C_POS_ABS_MAX =  5\n",
    "C_POS_ABS_MIN = -5\n",
    "\n",
    "C_VEL_ABS_MAX =  5\n",
    "C_VEL_ABS_MIN = -5\n",
    "\n",
    "P_ANG_ABS_MAX =  1\n",
    "P_ANG_ABS_MIN = -1\n",
    "\n",
    "P_VEL_ABS_MAX =  5\n",
    "P_VEL_ABS_MIN = -5\n",
    "\n",
    "M_CART_ABS_MAX = 1.5\n",
    "M_CART_ABS_MIN = 0.5\n",
    "\n",
    "M_POLE_ABS_MAX = 0.15\n",
    "M_POLE_ABS_MIN = 0.05\n",
    "\n",
    "LENGTH_ABS_MAX = 0.8\n",
    "LENGTH_ABS_MIN = 0.2"
   ]
  },
  {
   "cell_type": "code",
   "execution_count": 28,
   "metadata": {},
   "outputs": [],
   "source": [
    "[C_POS_MAX, C_VEL_MAX, P_ANG_MAX, P_VEL_MAX, M_CART_MAX, M_POLE_MAX, LENGTH_MAX,\n",
    "C_POS_MIN, C_VEL_MIN, P_ANG_MIN, P_VEL_MIN, M_CART_MIN, M_POLE_MIN, LENGTH_MIN]  = [C_POS_ABS_MAX, C_VEL_ABS_MAX, P_ANG_ABS_MAX, P_VEL_ABS_MAX, M_CART_ABS_MAX, M_POLE_ABS_MAX, LENGTH_ABS_MAX,\n",
    "                        C_POS_ABS_MIN, C_VEL_ABS_MIN, P_ANG_ABS_MIN, P_VEL_ABS_MIN, M_CART_ABS_MIN, M_POLE_ABS_MIN, LENGTH_ABS_MIN]\n"
   ]
  },
  {
   "cell_type": "code",
   "execution_count": 29,
   "metadata": {},
   "outputs": [],
   "source": [
    "# CREATE STATE TABLE BORDERS\n",
    "###############################################\n",
    "c_pos_s  = np.linspace(C_POS_MIN,  C_POS_MAX,  HI_GRAIN)\n",
    "c_vel_s  = np.linspace(C_VEL_MIN,  C_VEL_MAX,  HI_GRAIN)\n",
    "p_ang_s  = np.linspace(P_ANG_MIN,  P_ANG_MAX,  HI_GRAIN)\n",
    "p_vel_s  = np.linspace(P_VEL_MIN,  P_VEL_MAX,  HI_GRAIN)\n",
    "mcart_s  = np.linspace(M_CART_MIN, M_CART_MAX, LO_GRAIN)\n",
    "mpole_s  = np.linspace(M_POLE_MIN, M_POLE_MAX, LO_GRAIN)\n",
    "length_s = np.linspace(LENGTH_MIN, LENGTH_MAX, LO_GRAIN)\n",
    "borders = [c_pos_s, c_vel_s, p_ang_s, p_vel_s, mcart_s, mpole_s, length_s]\n"
   ]
  },
  {
   "cell_type": "code",
   "execution_count": 31,
   "metadata": {},
   "outputs": [
    {
     "data": {
      "text/plain": [
       "14"
      ]
     },
     "execution_count": 31,
     "metadata": {},
     "output_type": "execute_result"
    }
   ],
   "source": [
    "c_pos_s.argmax()"
   ]
  },
  {
   "cell_type": "code",
   "execution_count": 53,
   "metadata": {},
   "outputs": [],
   "source": [
    "value = np.array([-7,-7,-7,-7,-7,-7,-7])"
   ]
  },
  {
   "cell_type": "code",
   "execution_count": 54,
   "metadata": {},
   "outputs": [
    {
     "data": {
      "text/plain": [
       "7"
      ]
     },
     "execution_count": 54,
     "metadata": {},
     "output_type": "execute_result"
    }
   ],
   "source": [
    "value.shape[0]"
   ]
  },
  {
   "cell_type": "code",
   "execution_count": 55,
   "metadata": {},
   "outputs": [],
   "source": [
    "indx = np.empty_like(value).astype(np.uint)"
   ]
  },
  {
   "cell_type": "code",
   "execution_count": 56,
   "metadata": {},
   "outputs": [],
   "source": [
    "def discretize(value, borders):\n",
    "    c_pos_val, c_vel_val, p_ang_val, p_vel_val, mcart_val, mpole_val, length_val   = value\n",
    "    c_pos_s  , c_vel_s  ,p_ang_s   , p_vel_s  , mcart_s  , mpole_s  , length_s     = borders\n",
    "    \n",
    "    indx = np.empty_like(value).astype(np.uint)\n",
    "    for i in range(value.shape[0]):\n",
    "        if value[i] > borders[i].max():\n",
    "            indx[i] = borders[i].argmax()\n",
    "        else:\n",
    "            indx[i] = np.where(borders[i] >= value[i])[0][0].astype(np.uint)\n",
    "#     if c_pos_val > c_pos_s.max():\n",
    "#         c_pos_indx = c_pos_s.argmax() \n",
    "#     else:\n",
    "#         c_pos_indx  = np.where(c_pos_s  >= c_pos_val )[0][0].astype(int)\n",
    "        \n",
    "        \n",
    "#     c_vel_indx  = np.where(c_vel_s  >= c_vel_val )[0][0].astype(int)\n",
    "#     p_ang_indx  = np.where(p_ang_s  >= p_ang_val )[0][0].astype(int)\n",
    "#     p_vel_indx  = np.where(p_vel_s  >= p_vel_val )[0][0].astype(int)\n",
    "#     mcart_indx  = np.where(mcart_s  >= mcart_val )[0][0].astype(int)\n",
    "#     mpole_indx  = np.where(mpole_s  >= mpole_val )[0][0].astype(int)\n",
    "#     length_indx = np.where(length_s >= length_val)[0][0].astype(int)\n",
    "    return indx\n",
    "#     return [c_pos_indx, c_vel_indx, p_ang_indx, p_vel_indx, mcart_indx, mpole_indx, length_indx]"
   ]
  },
  {
   "cell_type": "code",
   "execution_count": 57,
   "metadata": {},
   "outputs": [
    {
     "data": {
      "text/plain": [
       "array([0, 0, 0, 0, 0, 0, 0], dtype=uint64)"
      ]
     },
     "execution_count": 57,
     "metadata": {},
     "output_type": "execute_result"
    }
   ],
   "source": [
    "discretize(value,borders)"
   ]
  },
  {
   "cell_type": "code",
   "execution_count": null,
   "metadata": {},
   "outputs": [],
   "source": []
  }
 ],
 "metadata": {
  "kernelspec": {
   "display_name": "Python 3",
   "language": "python",
   "name": "python3"
  },
  "language_info": {
   "codemirror_mode": {
    "name": "ipython",
    "version": 3
   },
   "file_extension": ".py",
   "mimetype": "text/x-python",
   "name": "python",
   "nbconvert_exporter": "python",
   "pygments_lexer": "ipython3",
   "version": "3.6.3"
  }
 },
 "nbformat": 4,
 "nbformat_minor": 2
}
