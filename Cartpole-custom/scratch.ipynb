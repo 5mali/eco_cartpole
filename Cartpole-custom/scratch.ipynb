{
 "cells": [
  {
   "cell_type": "code",
   "execution_count": 1,
   "metadata": {},
   "outputs": [],
   "source": [
    "import numpy as np"
   ]
  },
  {
   "cell_type": "code",
   "execution_count": 2,
   "metadata": {},
   "outputs": [],
   "source": [
    "def ndim_grid(start,stop, granularity):\n",
    "    # Set number of dimensions\n",
    "    ndims = len(start)\n",
    "\n",
    "    # List of ranges across all dimensions\n",
    "    L = [np.linspace(start[i],stop[i],granularity[i]) for i in range(ndims)]\n",
    "\n",
    "    # Finally use meshgrid to form all combinations corresponding to all \n",
    "    # dimensions and stack them as M x ndims array\n",
    "    return np.hstack((np.meshgrid(*L))).swapaxes(0,1).reshape(ndims,-1).T"
   ]
  },
  {
   "cell_type": "code",
   "execution_count": 3,
   "metadata": {},
   "outputs": [],
   "source": [
    "# SET STATE VALUE BORDERS\n",
    "###############################################\n",
    "C_POS_MAX =  5\n",
    "C_POS_MIN = -5\n",
    "\n",
    "C_VEL_MAX =  5\n",
    "C_VEL_MIN = -5\n",
    "\n",
    "P_ANG_MAX =  1\n",
    "P_ANG_MIN = -1\n",
    "\n",
    "P_VEL_MAX =  5\n",
    "P_VEL_MIN = -5\n",
    "\n",
    "M_CART_MAX = 1.4\n",
    "M_CART_MIN = 0.6\n",
    "\n",
    "M_POLE_MAX = 0.14\n",
    "M_POLE_MIN = 0.06\n",
    "\n",
    "LENGTH_MAX = 0.7\n",
    "LENGTH_MIN = 0.3\n",
    "###############################################"
   ]
  },
  {
   "cell_type": "code",
   "execution_count": 19,
   "metadata": {},
   "outputs": [],
   "source": [
    "LO_GRAIN = 7\n",
    "HI_GRAIN = 30"
   ]
  },
  {
   "cell_type": "code",
   "execution_count": 20,
   "metadata": {},
   "outputs": [
    {
     "data": {
      "text/plain": [
       "1.0349974036216736"
      ]
     },
     "execution_count": 20,
     "metadata": {},
     "output_type": "execute_result"
    }
   ],
   "source": [
    "(HI_GRAIN**4)*(LO_GRAIN**3)*4/(1024*1024*1024)"
   ]
  },
  {
   "cell_type": "code",
   "execution_count": 5,
   "metadata": {},
   "outputs": [],
   "source": [
    "# CREATE STATE COMBINATIONS\n",
    "###############################################\n",
    "\n",
    "state_combinations = ndim_grid([C_POS_MIN, C_VEL_MIN, P_ANG_MIN, P_VEL_MIN, M_CART_MIN, M_POLE_MIN, LENGTH_MIN ],\n",
    "                               [C_POS_MAX, C_VEL_MAX, P_ANG_MAX, P_VEL_MAX, M_CART_MAX, M_POLE_MAX, LENGTH_MAX ],\n",
    "                               [HI_GRAIN , HI_GRAIN , HI_GRAIN , HI_GRAIN , LO_GRAIN  , LO_GRAIN  , LO_GRAIN])\n",
    "###############################################"
   ]
  },
  {
   "cell_type": "code",
   "execution_count": 6,
   "metadata": {},
   "outputs": [
    {
     "data": {
      "text/plain": [
       "0.01609325408935547"
      ]
     },
     "execution_count": 6,
     "metadata": {},
     "output_type": "execute_result"
    }
   ],
   "source": [
    "(state_combinations.shape[0])* 4/(1024*1024*1024)"
   ]
  },
  {
   "cell_type": "code",
   "execution_count": null,
   "metadata": {},
   "outputs": [],
   "source": []
  }
 ],
 "metadata": {
  "kernelspec": {
   "display_name": "Python 3",
   "language": "python",
   "name": "python3"
  },
  "language_info": {
   "codemirror_mode": {
    "name": "ipython",
    "version": 3
   },
   "file_extension": ".py",
   "mimetype": "text/x-python",
   "name": "python",
   "nbconvert_exporter": "python",
   "pygments_lexer": "ipython3",
   "version": "3.6.3"
  }
 },
 "nbformat": 4,
 "nbformat_minor": 2
}
