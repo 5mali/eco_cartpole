{
 "cells": [
  {
   "cell_type": "code",
   "execution_count": 77,
   "metadata": {},
   "outputs": [
    {
     "name": "stdout",
     "output_type": "stream",
     "text": [
      "0.405\n",
      "0.41000000000000003\n",
      "0.41500000000000004\n",
      "0.42000000000000004\n",
      "0.42500000000000004\n",
      "0.43000000000000005\n",
      "0.43500000000000005\n",
      "0.44\n",
      "0.445\n",
      "0.45\n",
      "0.455\n",
      "0.46\n",
      "0.465\n",
      "0.47000000000000003\n",
      "0.47500000000000003\n",
      "0.48000000000000004\n",
      "0.48500000000000004\n",
      "0.49\n",
      "0.495\n",
      "0.5\n",
      "0.505\n",
      "0.51\n",
      "0.515\n",
      "0.52\n",
      "0.525\n",
      "0.53\n",
      "0.535\n",
      "0.54\n",
      "0.545\n",
      "0.55\n",
      "0.555\n",
      "0.56\n",
      "0.5650000000000001\n",
      "0.5700000000000001\n",
      "0.575\n",
      "0.5800000000000001\n",
      "0.585\n",
      "0.5900000000000001\n",
      "0.595\n",
      "0.6000000000000001\n",
      "0.605\n",
      "0.61\n",
      "0.615\n",
      "0.62\n",
      "0.625\n",
      "0.63\n",
      "0.635\n",
      "0.64\n",
      "0.645\n",
      "0.65\n",
      "0.655\n",
      "0.66\n",
      "0.665\n",
      "0.67\n",
      "0.675\n",
      "0.68\n",
      "0.685\n",
      "0.69\n",
      "0.6950000000000001\n",
      "0.7\n",
      "0.7050000000000001\n",
      "0.71\n",
      "0.7150000000000001\n",
      "0.72\n",
      "0.7250000000000001\n",
      "0.73\n",
      "0.7350000000000001\n",
      "0.74\n",
      "0.745\n",
      "0.75\n",
      "0.755\n",
      "0.76\n",
      "0.765\n",
      "0.77\n",
      "0.775\n",
      "0.78\n",
      "0.785\n",
      "0.79\n",
      "0.795\n",
      "0.8\n",
      "0.805\n",
      "0.81\n",
      "0.815\n",
      "0.8200000000000001\n",
      "0.825\n",
      "0.8300000000000001\n",
      "0.835\n",
      "0.8400000000000001\n",
      "0.845\n",
      "0.8500000000000001\n",
      "0.855\n",
      "0.8600000000000001\n",
      "0.865\n",
      "0.87\n",
      "0.875\n",
      "0.88\n",
      "0.885\n",
      "0.89\n",
      "0.895\n",
      "0.9\n"
     ]
    }
   ],
   "source": [
    "NO_OF_NODES = 100\n",
    "for node_id in range(NO_OF_NODES):    \n",
    "    scaling_factor = 0.8 + (1.8 - 0.8) * (node_id + 1)/(NO_OF_NODES)\n",
    "    ORIGNAL_LENGTH = 0.5    \n",
    "    length_mean    = ORIGNAL_LENGTH * scaling_factor\n",
    "    print(length_mean)"
   ]
  },
  {
   "cell_type": "code",
   "execution_count": 64,
   "metadata": {},
   "outputs": [
    {
     "data": {
      "text/plain": [
       "0.3701221803416036"
      ]
     },
     "execution_count": 64,
     "metadata": {},
     "output_type": "execute_result"
    }
   ],
   "source": [
    "import numpy as np\n",
    "\n",
    "0.3+ np.random.uniform(-0.05,0.05)+0.1"
   ]
  },
  {
   "cell_type": "code",
   "execution_count": null,
   "metadata": {},
   "outputs": [],
   "source": []
  }
 ],
 "metadata": {
  "kernelspec": {
   "display_name": "Python 3",
   "language": "python",
   "name": "python3"
  },
  "language_info": {
   "codemirror_mode": {
    "name": "ipython",
    "version": 3
   },
   "file_extension": ".py",
   "mimetype": "text/x-python",
   "name": "python",
   "nbconvert_exporter": "python",
   "pygments_lexer": "ipython3",
   "version": "3.6.3"
  }
 },
 "nbformat": 4,
 "nbformat_minor": 2
}
