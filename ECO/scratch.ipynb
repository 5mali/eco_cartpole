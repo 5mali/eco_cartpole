{
 "cells": [
  {
   "cell_type": "code",
   "execution_count": 1,
   "metadata": {},
   "outputs": [],
   "source": [
    "# ABSOLUTE LIMITS ON STATE VALUES\n",
    "C_POS_ABS_MAX =  2.4\n",
    "C_POS_ABS_MIN = -2.4\n",
    "\n",
    "C_VEL_ABS_MAX =  5\n",
    "C_VEL_ABS_MIN = -5\n",
    "\n",
    "P_ANG_ABS_MAX =  0.25\n",
    "P_ANG_ABS_MIN = -0.25\n",
    "\n",
    "P_VEL_ABS_MAX =  4.5\n",
    "P_VEL_ABS_MIN = -4.5\n",
    "\n",
    "LENGTH_ABS_MAX = 0.8\n",
    "LENGTH_ABS_MIN = 0.2"
   ]
  },
  {
   "cell_type": "code",
   "execution_count": 2,
   "metadata": {},
   "outputs": [],
   "source": [
    "init_node_boundary = [C_POS_ABS_MAX, C_VEL_ABS_MAX, P_ANG_ABS_MAX, P_VEL_ABS_MAX, LENGTH_ABS_MAX,\n",
    "                      C_POS_ABS_MIN, C_VEL_ABS_MIN, P_ANG_ABS_MIN, P_VEL_ABS_MIN, LENGTH_ABS_MIN]"
   ]
  },
  {
   "cell_type": "code",
   "execution_count": 4,
   "metadata": {},
   "outputs": [],
   "source": [
    "NO_OF_NODES = 10\n",
    "node_boundaries = [init_node_boundary] * NO_OF_NODES"
   ]
  },
  {
   "cell_type": "code",
   "execution_count": 7,
   "metadata": {},
   "outputs": [],
   "source": [
    "iteration = 10\n",
    "iter_list = [iteration] * NO_OF_NODES"
   ]
  },
  {
   "cell_type": "code",
   "execution_count": 8,
   "metadata": {},
   "outputs": [
    {
     "data": {
      "text/plain": [
       "[10, 10, 10, 10, 10, 10, 10, 10, 10, 10]"
      ]
     },
     "execution_count": 8,
     "metadata": {},
     "output_type": "execute_result"
    }
   ],
   "source": [
    "iter_list"
   ]
  },
  {
   "cell_type": "code",
   "execution_count": 9,
   "metadata": {},
   "outputs": [],
   "source": [
    "arg_list = [arg for arg in zip(range(NO_OF_NODES), node_boundaries, iter_list)]\n"
   ]
  },
  {
   "cell_type": "code",
   "execution_count": 11,
   "metadata": {},
   "outputs": [
    {
     "data": {
      "text/plain": [
       "[(0, [2.4, 5, 0.25, 4.5, 0.8, -2.4, -5, -0.25, -4.5, 0.2], 10),\n",
       " (1, [2.4, 5, 0.25, 4.5, 0.8, -2.4, -5, -0.25, -4.5, 0.2], 10),\n",
       " (2, [2.4, 5, 0.25, 4.5, 0.8, -2.4, -5, -0.25, -4.5, 0.2], 10),\n",
       " (3, [2.4, 5, 0.25, 4.5, 0.8, -2.4, -5, -0.25, -4.5, 0.2], 10),\n",
       " (4, [2.4, 5, 0.25, 4.5, 0.8, -2.4, -5, -0.25, -4.5, 0.2], 10),\n",
       " (5, [2.4, 5, 0.25, 4.5, 0.8, -2.4, -5, -0.25, -4.5, 0.2], 10),\n",
       " (6, [2.4, 5, 0.25, 4.5, 0.8, -2.4, -5, -0.25, -4.5, 0.2], 10),\n",
       " (7, [2.4, 5, 0.25, 4.5, 0.8, -2.4, -5, -0.25, -4.5, 0.2], 10),\n",
       " (8, [2.4, 5, 0.25, 4.5, 0.8, -2.4, -5, -0.25, -4.5, 0.2], 10),\n",
       " (9, [2.4, 5, 0.25, 4.5, 0.8, -2.4, -5, -0.25, -4.5, 0.2], 10)]"
      ]
     },
     "execution_count": 11,
     "metadata": {},
     "output_type": "execute_result"
    }
   ],
   "source": [
    "arg_list"
   ]
  },
  {
   "cell_type": "code",
   "execution_count": null,
   "metadata": {},
   "outputs": [],
   "source": []
  }
 ],
 "metadata": {
  "kernelspec": {
   "display_name": "Python 3",
   "language": "python",
   "name": "python3"
  },
  "language_info": {
   "codemirror_mode": {
    "name": "ipython",
    "version": 3
   },
   "file_extension": ".py",
   "mimetype": "text/x-python",
   "name": "python",
   "nbconvert_exporter": "python",
   "pygments_lexer": "ipython3",
   "version": "3.6.3"
  }
 },
 "nbformat": 4,
 "nbformat_minor": 2
}
